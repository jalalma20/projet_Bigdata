{
 "cells": [
  {
   "cell_type": "code",
   "execution_count": 1,
   "metadata": {},
   "outputs": [],
   "source": [
    "import pandas as pd\n",
    "import math"
   ]
  },
  {
   "cell_type": "code",
   "execution_count": 4,
   "metadata": {},
   "outputs": [
    {
     "data": {
      "text/html": [
       "<div>\n",
       "<style scoped>\n",
       "    .dataframe tbody tr th:only-of-type {\n",
       "        vertical-align: middle;\n",
       "    }\n",
       "\n",
       "    .dataframe tbody tr th {\n",
       "        vertical-align: top;\n",
       "    }\n",
       "\n",
       "    .dataframe thead th {\n",
       "        text-align: right;\n",
       "    }\n",
       "</style>\n",
       "<table border=\"1\" class=\"dataframe\">\n",
       "  <thead>\n",
       "    <tr style=\"text-align: right;\">\n",
       "      <th></th>\n",
       "      <th>Unnamed: 0</th>\n",
       "      <th>order.id</th>\n",
       "      <th>order.line</th>\n",
       "      <th>order.date</th>\n",
       "      <th>customer.id</th>\n",
       "      <th>product.id</th>\n",
       "      <th>quantity</th>\n",
       "    </tr>\n",
       "  </thead>\n",
       "  <tbody>\n",
       "    <tr>\n",
       "      <th>0</th>\n",
       "      <td>1</td>\n",
       "      <td>1</td>\n",
       "      <td>1</td>\n",
       "      <td>2011-01-07</td>\n",
       "      <td>2</td>\n",
       "      <td>48</td>\n",
       "      <td>1</td>\n",
       "    </tr>\n",
       "    <tr>\n",
       "      <th>1</th>\n",
       "      <td>2</td>\n",
       "      <td>1</td>\n",
       "      <td>2</td>\n",
       "      <td>2011-01-07</td>\n",
       "      <td>2</td>\n",
       "      <td>52</td>\n",
       "      <td>1</td>\n",
       "    </tr>\n",
       "    <tr>\n",
       "      <th>2</th>\n",
       "      <td>3</td>\n",
       "      <td>2</td>\n",
       "      <td>1</td>\n",
       "      <td>2011-01-10</td>\n",
       "      <td>10</td>\n",
       "      <td>76</td>\n",
       "      <td>1</td>\n",
       "    </tr>\n",
       "    <tr>\n",
       "      <th>3</th>\n",
       "      <td>4</td>\n",
       "      <td>2</td>\n",
       "      <td>2</td>\n",
       "      <td>2011-01-10</td>\n",
       "      <td>10</td>\n",
       "      <td>52</td>\n",
       "      <td>1</td>\n",
       "    </tr>\n",
       "    <tr>\n",
       "      <th>4</th>\n",
       "      <td>5</td>\n",
       "      <td>3</td>\n",
       "      <td>1</td>\n",
       "      <td>2011-01-10</td>\n",
       "      <td>6</td>\n",
       "      <td>2</td>\n",
       "      <td>1</td>\n",
       "    </tr>\n",
       "  </tbody>\n",
       "</table>\n",
       "</div>"
      ],
      "text/plain": [
       "   Unnamed: 0  order.id  order.line order.date  customer.id  product.id  \\\n",
       "0           1         1           1 2011-01-07            2          48   \n",
       "1           2         1           2 2011-01-07            2          52   \n",
       "2           3         2           1 2011-01-10           10          76   \n",
       "3           4         2           2 2011-01-10           10          52   \n",
       "4           5         3           1 2011-01-10            6           2   \n",
       "\n",
       "   quantity  \n",
       "0         1  \n",
       "1         1  \n",
       "2         1  \n",
       "3         1  \n",
       "4         1  "
      ]
     },
     "execution_count": 4,
     "metadata": {},
     "output_type": "execute_result"
    }
   ],
   "source": [
    "# Charger le fichier pour avoir un aperçu des premières lignes\n",
    "df_orders = pd.read_excel(\"C:/Users/Jalal/Desktop/Projet_MrSelami/data/orders.xlsx\")\n",
    "df_orders.head()"
   ]
  },
  {
   "cell_type": "code",
   "execution_count": 5,
   "metadata": {},
   "outputs": [
    {
     "name": "stdout",
     "output_type": "stream",
     "text": [
      "count    15644.000000\n",
      "mean        49.475326\n",
      "std         28.231556\n",
      "min          1.000000\n",
      "25%         25.000000\n",
      "50%         48.000000\n",
      "75%         75.000000\n",
      "max         97.000000\n",
      "Name: product.id, dtype: float64\n"
     ]
    }
   ],
   "source": [
    "print(df_orders['product.id'].describe())\n"
   ]
  },
  {
   "cell_type": "code",
   "execution_count": 8,
   "metadata": {},
   "outputs": [
    {
     "name": "stdout",
     "output_type": "stream",
     "text": [
      "28.23155579414931\n",
      "order.id\n",
      "1121    30\n",
      "491     30\n",
      "814     30\n",
      "1013    30\n",
      "127     30\n",
      "        ..\n",
      "679      1\n",
      "680      1\n",
      "1164     1\n",
      "683      1\n",
      "1001     1\n",
      "Name: count, Length: 2000, dtype: int64\n",
      "order.id\n",
      "1       50.00\n",
      "2       64.00\n",
      "3       18.20\n",
      "4       26.00\n",
      "5       67.25\n",
      "        ...  \n",
      "1996    42.50\n",
      "1997    29.00\n",
      "1998    65.50\n",
      "1999    14.00\n",
      "2000    38.50\n",
      "Name: product.id, Length: 2000, dtype: float64\n"
     ]
    }
   ],
   "source": [
    "# Calcul de l'écart type pour la même colonne\n",
    "print(df_orders['product.id'].std())\n",
    "\n",
    "print(df_orders['order.id'].value_counts())\n",
    "\n",
    "# Prix (ou autre mesure) moyen par catégorie\n",
    "# Remplacer 'nom_colonne_categorique' et 'nom_colonne_numerique' par les noms réels\n",
    "print(df_orders.groupby('order.id')['product.id'].mean())"
   ]
  },
  {
   "cell_type": "code",
   "execution_count": null,
   "metadata": {},
   "outputs": [],
   "source": []
  }
 ],
 "metadata": {
  "kernelspec": {
   "display_name": "Python 3",
   "language": "python",
   "name": "python3"
  },
  "language_info": {
   "codemirror_mode": {
    "name": "ipython",
    "version": 3
   },
   "file_extension": ".py",
   "mimetype": "text/x-python",
   "name": "python",
   "nbconvert_exporter": "python",
   "pygments_lexer": "ipython3",
   "version": "3.10.11"
  }
 },
 "nbformat": 4,
 "nbformat_minor": 2
}
