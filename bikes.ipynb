{
 "cells": [
  {
   "cell_type": "code",
   "execution_count": 7,
   "metadata": {},
   "outputs": [
    {
     "name": "stdout",
     "output_type": "stream",
     "text": [
      "Collecting pandas\n",
      "  Downloading pandas-2.2.1-cp310-cp310-win_amd64.whl (11.6 MB)\n",
      "     --------------------------------------- 11.6/11.6 MB 50.3 MB/s eta 0:00:00\n",
      "Collecting tzdata>=2022.7\n",
      "  Downloading tzdata-2024.1-py2.py3-none-any.whl (345 kB)\n",
      "     ------------------------------------- 345.4/345.4 kB 20.9 MB/s eta 0:00:00\n",
      "Requirement already satisfied: numpy<2,>=1.22.4 in c:\\users\\jalal\\appdata\\local\\packages\\pythonsoftwarefoundation.python.3.10_qbz5n2kfra8p0\\localcache\\local-packages\\python310\\site-packages (from pandas) (1.26.4)\n",
      "Collecting pytz>=2020.1\n",
      "  Downloading pytz-2024.1-py2.py3-none-any.whl (505 kB)\n",
      "     ---------------------------------------- 505.5/505.5 kB ? eta 0:00:00\n",
      "Requirement already satisfied: python-dateutil>=2.8.2 in c:\\users\\jalal\\appdata\\local\\packages\\pythonsoftwarefoundation.python.3.10_qbz5n2kfra8p0\\localcache\\local-packages\\python310\\site-packages (from pandas) (2.8.2)\n",
      "Requirement already satisfied: six>=1.5 in c:\\users\\jalal\\appdata\\local\\packages\\pythonsoftwarefoundation.python.3.10_qbz5n2kfra8p0\\localcache\\local-packages\\python310\\site-packages (from python-dateutil>=2.8.2->pandas) (1.16.0)\n",
      "Installing collected packages: pytz, tzdata, pandas\n",
      "Successfully installed pandas-2.2.1 pytz-2024.1 tzdata-2024.1\n"
     ]
    },
    {
     "name": "stderr",
     "output_type": "stream",
     "text": [
      "\n",
      "[notice] A new release of pip is available: 23.0.1 -> 24.0\n",
      "[notice] To update, run: C:\\Users\\Jalal\\AppData\\Local\\Microsoft\\WindowsApps\\PythonSoftwareFoundation.Python.3.10_qbz5n2kfra8p0\\python.exe -m pip install --upgrade pip\n"
     ]
    }
   ],
   "source": [
    "!pip install pandas"
   ]
  },
  {
   "cell_type": "code",
   "execution_count": 36,
   "metadata": {},
   "outputs": [],
   "source": [
    "import pandas as pd\n",
    "import math\n",
    "\n",
    "\n"
   ]
  },
  {
   "cell_type": "code",
   "execution_count": 46,
   "metadata": {},
   "outputs": [
    {
     "data": {
      "text/html": [
       "<div>\n",
       "<style scoped>\n",
       "    .dataframe tbody tr th:only-of-type {\n",
       "        vertical-align: middle;\n",
       "    }\n",
       "\n",
       "    .dataframe tbody tr th {\n",
       "        vertical-align: top;\n",
       "    }\n",
       "\n",
       "    .dataframe thead th {\n",
       "        text-align: right;\n",
       "    }\n",
       "</style>\n",
       "<table border=\"1\" class=\"dataframe\">\n",
       "  <thead>\n",
       "    <tr style=\"text-align: right;\">\n",
       "      <th></th>\n",
       "      <th>bike.id;model;category1;category2;frame;price</th>\n",
       "    </tr>\n",
       "  </thead>\n",
       "  <tbody>\n",
       "    <tr>\n",
       "      <th>0</th>\n",
       "      <td>1;Supersix Evo Black Inc.;Road;Elite Road;Carb...</td>\n",
       "    </tr>\n",
       "    <tr>\n",
       "      <th>1</th>\n",
       "      <td>2;Supersix Evo Hi-Mod Team;Road;Elite Road;Car...</td>\n",
       "    </tr>\n",
       "    <tr>\n",
       "      <th>2</th>\n",
       "      <td>3;Supersix Evo Hi-Mod Dura Ace 1;Road;Elite Ro...</td>\n",
       "    </tr>\n",
       "    <tr>\n",
       "      <th>3</th>\n",
       "      <td>4;Supersix Evo Hi-Mod Dura Ace 2;Road;Elite Ro...</td>\n",
       "    </tr>\n",
       "    <tr>\n",
       "      <th>4</th>\n",
       "      <td>5;Supersix Evo Hi-Mod Utegra;Road;Elite Road;C...</td>\n",
       "    </tr>\n",
       "  </tbody>\n",
       "</table>\n",
       "</div>"
      ],
      "text/plain": [
       "       bike.id;model;category1;category2;frame;price\n",
       "0  1;Supersix Evo Black Inc.;Road;Elite Road;Carb...\n",
       "1  2;Supersix Evo Hi-Mod Team;Road;Elite Road;Car...\n",
       "2  3;Supersix Evo Hi-Mod Dura Ace 1;Road;Elite Ro...\n",
       "3  4;Supersix Evo Hi-Mod Dura Ace 2;Road;Elite Ro...\n",
       "4  5;Supersix Evo Hi-Mod Utegra;Road;Elite Road;C..."
      ]
     },
     "execution_count": 46,
     "metadata": {},
     "output_type": "execute_result"
    }
   ],
   "source": [
    "# Charger le fichier pour avoir un aperçu des premières lignes\n",
    "df = pd.read_csv(\"C:/Users/Jalal/Desktop/Projet_MrSelami/data/bikes.csv\", sep =',')\n",
    "df.head()\n"
   ]
  },
  {
   "cell_type": "code",
   "execution_count": 47,
   "metadata": {},
   "outputs": [
    {
     "name": "stdout",
     "output_type": "stream",
     "text": [
      "  bike.id                           model category1   category2   frame  price\n",
      "0       1         Supersix Evo Black Inc.      Road  Elite Road  Carbon  12790\n",
      "1       2        Supersix Evo Hi-Mod Team      Road  Elite Road  Carbon  10660\n",
      "2       3  Supersix Evo Hi-Mod Dura Ace 1      Road  Elite Road  Carbon   7990\n",
      "3       4  Supersix Evo Hi-Mod Dura Ace 2      Road  Elite Road  Carbon   5330\n",
      "4       5      Supersix Evo Hi-Mod Utegra      Road  Elite Road  Carbon   4260\n"
     ]
    }
   ],
   "source": [
    "# Supposons que `df` est votre DataFrame et que la colonne unique contient toutes les informations séparées par ';'\n",
    "# Nous allons d'abord renommer cette colonne pour simplifier, si ce n'est pas déjà fait\n",
    "df.columns = ['data']\n",
    "\n",
    "# Diviser la colonne 'data' en plusieurs colonnes\n",
    "df_expanded = df['data'].str.split(';', expand=True)\n",
    "\n",
    "# Renommer les nouvelles colonnes\n",
    "df_expanded.columns = ['bike.id', 'model', 'category1', 'category2', 'frame', 'price']\n",
    "\n",
    "# Afficher les premières lignes pour vérifier\n",
    "print(df_expanded.head())\n"
   ]
  },
  {
   "cell_type": "code",
   "execution_count": 48,
   "metadata": {},
   "outputs": [
    {
     "data": {
      "text/html": [
       "<div>\n",
       "<style scoped>\n",
       "    .dataframe tbody tr th:only-of-type {\n",
       "        vertical-align: middle;\n",
       "    }\n",
       "\n",
       "    .dataframe tbody tr th {\n",
       "        vertical-align: top;\n",
       "    }\n",
       "\n",
       "    .dataframe thead th {\n",
       "        text-align: right;\n",
       "    }\n",
       "</style>\n",
       "<table border=\"1\" class=\"dataframe\">\n",
       "  <thead>\n",
       "    <tr style=\"text-align: right;\">\n",
       "      <th></th>\n",
       "      <th>bike.id</th>\n",
       "      <th>model</th>\n",
       "      <th>category1</th>\n",
       "      <th>category2</th>\n",
       "      <th>frame</th>\n",
       "      <th>price</th>\n",
       "    </tr>\n",
       "  </thead>\n",
       "  <tbody>\n",
       "    <tr>\n",
       "      <th>0</th>\n",
       "      <td>1</td>\n",
       "      <td>Supersix Evo Black Inc.</td>\n",
       "      <td>Road</td>\n",
       "      <td>Elite Road</td>\n",
       "      <td>Carbon</td>\n",
       "      <td>12790</td>\n",
       "    </tr>\n",
       "    <tr>\n",
       "      <th>1</th>\n",
       "      <td>2</td>\n",
       "      <td>Supersix Evo Hi-Mod Team</td>\n",
       "      <td>Road</td>\n",
       "      <td>Elite Road</td>\n",
       "      <td>Carbon</td>\n",
       "      <td>10660</td>\n",
       "    </tr>\n",
       "    <tr>\n",
       "      <th>2</th>\n",
       "      <td>3</td>\n",
       "      <td>Supersix Evo Hi-Mod Dura Ace 1</td>\n",
       "      <td>Road</td>\n",
       "      <td>Elite Road</td>\n",
       "      <td>Carbon</td>\n",
       "      <td>7990</td>\n",
       "    </tr>\n",
       "    <tr>\n",
       "      <th>3</th>\n",
       "      <td>4</td>\n",
       "      <td>Supersix Evo Hi-Mod Dura Ace 2</td>\n",
       "      <td>Road</td>\n",
       "      <td>Elite Road</td>\n",
       "      <td>Carbon</td>\n",
       "      <td>5330</td>\n",
       "    </tr>\n",
       "    <tr>\n",
       "      <th>4</th>\n",
       "      <td>5</td>\n",
       "      <td>Supersix Evo Hi-Mod Utegra</td>\n",
       "      <td>Road</td>\n",
       "      <td>Elite Road</td>\n",
       "      <td>Carbon</td>\n",
       "      <td>4260</td>\n",
       "    </tr>\n",
       "    <tr>\n",
       "      <th>...</th>\n",
       "      <td>...</td>\n",
       "      <td>...</td>\n",
       "      <td>...</td>\n",
       "      <td>...</td>\n",
       "      <td>...</td>\n",
       "      <td>...</td>\n",
       "    </tr>\n",
       "    <tr>\n",
       "      <th>92</th>\n",
       "      <td>93</td>\n",
       "      <td>Trail 5</td>\n",
       "      <td>Mountain</td>\n",
       "      <td>Sport</td>\n",
       "      <td>Aluminum</td>\n",
       "      <td>815</td>\n",
       "    </tr>\n",
       "    <tr>\n",
       "      <th>93</th>\n",
       "      <td>94</td>\n",
       "      <td>Catalyst 1</td>\n",
       "      <td>Mountain</td>\n",
       "      <td>Sport</td>\n",
       "      <td>Aluminum</td>\n",
       "      <td>705</td>\n",
       "    </tr>\n",
       "    <tr>\n",
       "      <th>94</th>\n",
       "      <td>95</td>\n",
       "      <td>Catalyst 2</td>\n",
       "      <td>Mountain</td>\n",
       "      <td>Sport</td>\n",
       "      <td>Aluminum</td>\n",
       "      <td>585</td>\n",
       "    </tr>\n",
       "    <tr>\n",
       "      <th>95</th>\n",
       "      <td>96</td>\n",
       "      <td>Catalyst 3</td>\n",
       "      <td>Mountain</td>\n",
       "      <td>Sport</td>\n",
       "      <td>Aluminum</td>\n",
       "      <td>480</td>\n",
       "    </tr>\n",
       "    <tr>\n",
       "      <th>96</th>\n",
       "      <td>97</td>\n",
       "      <td>Catalyst 4</td>\n",
       "      <td>Mountain</td>\n",
       "      <td>Sport</td>\n",
       "      <td>Aluminum</td>\n",
       "      <td>415</td>\n",
       "    </tr>\n",
       "  </tbody>\n",
       "</table>\n",
       "<p>97 rows × 6 columns</p>\n",
       "</div>"
      ],
      "text/plain": [
       "   bike.id                           model category1   category2     frame  \\\n",
       "0        1         Supersix Evo Black Inc.      Road  Elite Road    Carbon   \n",
       "1        2        Supersix Evo Hi-Mod Team      Road  Elite Road    Carbon   \n",
       "2        3  Supersix Evo Hi-Mod Dura Ace 1      Road  Elite Road    Carbon   \n",
       "3        4  Supersix Evo Hi-Mod Dura Ace 2      Road  Elite Road    Carbon   \n",
       "4        5      Supersix Evo Hi-Mod Utegra      Road  Elite Road    Carbon   \n",
       "..     ...                             ...       ...         ...       ...   \n",
       "92      93                         Trail 5  Mountain       Sport  Aluminum   \n",
       "93      94                      Catalyst 1  Mountain       Sport  Aluminum   \n",
       "94      95                      Catalyst 2  Mountain       Sport  Aluminum   \n",
       "95      96                      Catalyst 3  Mountain       Sport  Aluminum   \n",
       "96      97                      Catalyst 4  Mountain       Sport  Aluminum   \n",
       "\n",
       "    price  \n",
       "0   12790  \n",
       "1   10660  \n",
       "2    7990  \n",
       "3    5330  \n",
       "4    4260  \n",
       "..    ...  \n",
       "92    815  \n",
       "93    705  \n",
       "94    585  \n",
       "95    480  \n",
       "96    415  \n",
       "\n",
       "[97 rows x 6 columns]"
      ]
     },
     "execution_count": 48,
     "metadata": {},
     "output_type": "execute_result"
    }
   ],
   "source": [
    "df_expanded "
   ]
  },
  {
   "cell_type": "code",
   "execution_count": 49,
   "metadata": {},
   "outputs": [
    {
     "data": {
      "text/plain": [
       "count       97\n",
       "unique      53\n",
       "top       3200\n",
       "freq         9\n",
       "Name: price, dtype: object"
      ]
     },
     "execution_count": 49,
     "metadata": {},
     "output_type": "execute_result"
    }
   ],
   "source": [
    "\n",
    "# Calcul des statistiques descriptives pour la colonne `price`\n",
    "price_stats = df_expanded['price'].describe()\n",
    "\n",
    "price_stats\n",
    "\n",
    "\n"
   ]
  },
  {
   "cell_type": "code",
   "execution_count": 50,
   "metadata": {},
   "outputs": [
    {
     "name": "stdout",
     "output_type": "stream",
     "text": [
      "2871.8917102277574\n"
     ]
    },
    {
     "data": {
      "text/plain": [
       "count             97\n",
       "unique            53\n",
       "top             3200\n",
       "freq               9\n",
       "std       2871.89171\n",
       "Name: price, dtype: object"
      ]
     },
     "execution_count": 50,
     "metadata": {},
     "output_type": "execute_result"
    }
   ],
   "source": [
    "# Convertir la colonne 'price' en nombre décimal (float)\n",
    "df_expanded['price'] = pd.to_numeric(df_expanded['price'], errors='coerce')\n",
    "\n",
    "# Après la conversion, vous pouvez calculer l'écart type\n",
    "price_std = df_expanded['price'].std()\n",
    "\n",
    "# Afficher l'écart type\n",
    "print(price_std)\n",
    "price_stats['std'] = price_std\n",
    "price_stats"
   ]
  },
  {
   "cell_type": "code",
   "execution_count": 51,
   "metadata": {},
   "outputs": [
    {
     "data": {
      "text/plain": [
       "(category1\n",
       " Mountain    51\n",
       " Road        46\n",
       " Name: count, dtype: int64,\n",
       " category2\n",
       " Elite Road            21\n",
       " Cross Country Race    19\n",
       " Endurance Road        16\n",
       " Trail                 13\n",
       " Sport                  9\n",
       " Over Mountain          8\n",
       " Triathalon             5\n",
       " Cyclocross             4\n",
       " Fat Bike               2\n",
       " Name: count, dtype: int64)"
      ]
     },
     "execution_count": 51,
     "metadata": {},
     "output_type": "execute_result"
    }
   ],
   "source": [
    "# Distribution des catégories de vélos\n",
    "category1_counts = df_expanded['category1'].value_counts()\n",
    "category2_counts = df_expanded['category2'].value_counts()\n",
    "\n",
    "category1_counts, category2_counts\n"
   ]
  },
  {
   "cell_type": "code",
   "execution_count": 52,
   "metadata": {},
   "outputs": [
    {
     "data": {
      "text/plain": [
       "frame\n",
       "Carbon      57\n",
       "Aluminum    40\n",
       "Name: count, dtype: int64"
      ]
     },
     "execution_count": 52,
     "metadata": {},
     "output_type": "execute_result"
    }
   ],
   "source": [
    "# Distribution des types de cadre\n",
    "frame_counts = df_expanded['frame'].value_counts()\n",
    "frame_counts\n"
   ]
  },
  {
   "cell_type": "code",
   "execution_count": 53,
   "metadata": {},
   "outputs": [
    {
     "data": {
      "text/plain": [
       "(category1\n",
       " Mountain    4255.294118\n",
       " Road        3619.456522\n",
       " Name: price, dtype: float64,\n",
       " category2\n",
       " Cross Country Race    5696.315789\n",
       " Cyclocross            2415.000000\n",
       " Elite Road            3869.761905\n",
       " Endurance Road        3513.750000\n",
       " Fat Bike              2930.000000\n",
       " Over Mountain         5275.000000\n",
       " Sport                  881.111111\n",
       " Trail                 4061.538462\n",
       " Triathalon            3870.000000\n",
       " Name: price, dtype: float64,\n",
       " frame\n",
       " Aluminum    1979.625000\n",
       " Carbon      5339.122807\n",
       " Name: price, dtype: float64)"
      ]
     },
     "execution_count": 53,
     "metadata": {},
     "output_type": "execute_result"
    }
   ],
   "source": [
    "# Prix moyen par catégorie principale et sous-catégorie\n",
    "mean_price_by_category1 = df_expanded.groupby('category1')['price'].mean()\n",
    "mean_price_by_category2 = df_expanded.groupby('category2')['price'].mean()\n",
    "\n",
    "# Prix moyen par type de cadre\n",
    "mean_price_by_frame = df_expanded.groupby('frame')['price'].mean()\n",
    "\n",
    "mean_price_by_category1, mean_price_by_category2, mean_price_by_frame\n"
   ]
  },
  {
   "cell_type": "code",
   "execution_count": null,
   "metadata": {},
   "outputs": [],
   "source": []
  },
  {
   "cell_type": "code",
   "execution_count": null,
   "metadata": {},
   "outputs": [],
   "source": []
  }
 ],
 "metadata": {
  "kernelspec": {
   "display_name": "Python 3",
   "language": "python",
   "name": "python3"
  },
  "language_info": {
   "codemirror_mode": {
    "name": "ipython",
    "version": 3
   },
   "file_extension": ".py",
   "mimetype": "text/x-python",
   "name": "python",
   "nbconvert_exporter": "python",
   "pygments_lexer": "ipython3",
   "version": "3.10.11"
  }
 },
 "nbformat": 4,
 "nbformat_minor": 2
}
